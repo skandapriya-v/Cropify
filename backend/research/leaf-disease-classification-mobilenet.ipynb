{
 "cells": [
  {
   "cell_type": "code",
   "execution_count": 1,
   "metadata": {
    "_cell_guid": "b1076dfc-b9ad-4769-8c92-a6c4dae69d19",
    "_uuid": "8f2839f25d086af736a60e9eeb907d3b93b6e0e5",
    "execution": {
     "iopub.execute_input": "2020-08-12T16:46:45.912041Z",
     "iopub.status.busy": "2020-08-12T16:46:45.911325Z",
     "iopub.status.idle": "2020-08-12T16:46:51.711433Z",
     "shell.execute_reply": "2020-08-12T16:46:51.711995Z"
    },
    "papermill": {
     "duration": 5.812651,
     "end_time": "2020-08-12T16:46:51.712206",
     "exception": false,
     "start_time": "2020-08-12T16:46:45.899555",
     "status": "completed"
    },
    "tags": []
   },
   "outputs": [],
   "source": [
    "import tensorflow as tf\n",
    "from tensorflow import keras\n",
    "import matplotlib.pyplot as plt\n",
    "import numpy as np\n",
    "import os"
   ]
  },
  {
   "cell_type": "code",
   "execution_count": 2,
   "metadata": {
    "execution": {
     "iopub.execute_input": "2020-08-12T16:46:51.729416Z",
     "iopub.status.busy": "2020-08-12T16:46:51.728750Z",
     "iopub.status.idle": "2020-08-12T16:46:51.732801Z",
     "shell.execute_reply": "2020-08-12T16:46:51.733306Z"
    },
    "papermill": {
     "duration": 0.014234,
     "end_time": "2020-08-12T16:46:51.733429",
     "exception": false,
     "start_time": "2020-08-12T16:46:51.719195",
     "status": "completed"
    },
    "tags": []
   },
   "outputs": [],
   "source": [
    "base_dir = \"../input/new-plant-diseases-dataset/new plant diseases dataset(augmented)/New Plant Diseases Dataset(Augmented)\"\n",
    "image_size = 224"
   ]
  },
  {
   "cell_type": "markdown",
   "execution_count": null,
   "metadata": {
    "papermill": {
     "duration": 0.005855,
     "end_time": "2020-08-12T16:46:51.745172",
     "exception": false,
     "start_time": "2020-08-12T16:46:51.739317",
     "status": "completed"
    },
    "tags": []
   },
   "source": [
    "## Creating DataGenerator"
   ]
  },
  {
   "cell_type": "code",
   "execution_count": 3,
   "metadata": {
    "_cell_guid": "79c7e3d0-c299-4dcb-8224-4455121ee9b0",
    "_uuid": "d629ff2d2480ee46fbb7e2d37f6b5fab8052498a",
    "execution": {
     "iopub.execute_input": "2020-08-12T16:46:51.763984Z",
     "iopub.status.busy": "2020-08-12T16:46:51.763314Z",
     "iopub.status.idle": "2020-08-12T16:47:03.376465Z",
     "shell.execute_reply": "2020-08-12T16:47:03.376980Z"
    },
    "papermill": {
     "duration": 11.625948,
     "end_time": "2020-08-12T16:47:03.377168",
     "exception": false,
     "start_time": "2020-08-12T16:46:51.751220",
     "status": "completed"
    },
    "tags": []
   },
   "outputs": [
    {
     "name": "stdout",
     "output_type": "stream",
     "text": [
      "Found 70295 images belonging to 38 classes.\n"
     ]
    }
   ],
   "source": [
    "train_datagen = keras.preprocessing.image.ImageDataGenerator(rescale = 1/255.0,\n",
    "                                                            shear_range = 0.2,\n",
    "                                                            zoom_range = 0.2,\n",
    "                                                            width_shift_range = 0.2,\n",
    "                                                            height_shift_range = 0.2,\n",
    "                                                            fill_mode=\"nearest\")\n",
    "batch_size = 32\n",
    "train_data = train_datagen.flow_from_directory(os.path.join(base_dir,\"train\"),\n",
    "                                               target_size=(image_size,image_size),\n",
    "                                               batch_size=batch_size,\n",
    "                                               class_mode=\"categorical\"                                               \n",
    "                                              )"
   ]
  },
  {
   "cell_type": "code",
   "execution_count": 4,
   "metadata": {
    "execution": {
     "iopub.execute_input": "2020-08-12T16:47:03.395419Z",
     "iopub.status.busy": "2020-08-12T16:47:03.394752Z",
     "iopub.status.idle": "2020-08-12T16:47:05.157092Z",
     "shell.execute_reply": "2020-08-12T16:47:05.157727Z"
    },
    "papermill": {
     "duration": 1.774246,
     "end_time": "2020-08-12T16:47:05.157892",
     "exception": false,
     "start_time": "2020-08-12T16:47:03.383646",
     "status": "completed"
    },
    "tags": []
   },
   "outputs": [
    {
     "name": "stdout",
     "output_type": "stream",
     "text": [
      "Found 17572 images belonging to 38 classes.\n"
     ]
    }
   ],
   "source": [
    "test_datagen = keras.preprocessing.image.ImageDataGenerator(rescale = 1/255.0)\n",
    "test_data = test_datagen.flow_from_directory(os.path.join(base_dir,\"valid\"),\n",
    "                                               target_size=(image_size,image_size),\n",
    "                                               batch_size=batch_size,\n",
    "                                               class_mode=\"categorical\"                                               \n",
    "                                              )"
   ]
  },
  {
   "cell_type": "code",
   "execution_count": 5,
   "metadata": {
    "execution": {
     "iopub.execute_input": "2020-08-12T16:47:05.176244Z",
     "iopub.status.busy": "2020-08-12T16:47:05.175437Z",
     "iopub.status.idle": "2020-08-12T16:47:05.180011Z",
     "shell.execute_reply": "2020-08-12T16:47:05.180491Z"
    },
    "papermill": {
     "duration": 0.016016,
     "end_time": "2020-08-12T16:47:05.180627",
     "exception": false,
     "start_time": "2020-08-12T16:47:05.164611",
     "status": "completed"
    },
    "tags": []
   },
   "outputs": [
    {
     "name": "stdout",
     "output_type": "stream",
     "text": [
      "['Apple___Apple_scab', 'Apple___Black_rot', 'Apple___Cedar_apple_rust', 'Apple___healthy', 'Blueberry___healthy', 'Cherry_(including_sour)___Powdery_mildew', 'Cherry_(including_sour)___healthy', 'Corn_(maize)___Cercospora_leaf_spot Gray_leaf_spot', 'Corn_(maize)___Common_rust_', 'Corn_(maize)___Northern_Leaf_Blight', 'Corn_(maize)___healthy', 'Grape___Black_rot', 'Grape___Esca_(Black_Measles)', 'Grape___Leaf_blight_(Isariopsis_Leaf_Spot)', 'Grape___healthy', 'Orange___Haunglongbing_(Citrus_greening)', 'Peach___Bacterial_spot', 'Peach___healthy', 'Pepper,_bell___Bacterial_spot', 'Pepper,_bell___healthy', 'Potato___Early_blight', 'Potato___Late_blight', 'Potato___healthy', 'Raspberry___healthy', 'Soybean___healthy', 'Squash___Powdery_mildew', 'Strawberry___Leaf_scorch', 'Strawberry___healthy', 'Tomato___Bacterial_spot', 'Tomato___Early_blight', 'Tomato___Late_blight', 'Tomato___Leaf_Mold', 'Tomato___Septoria_leaf_spot', 'Tomato___Spider_mites Two-spotted_spider_mite', 'Tomato___Target_Spot', 'Tomato___Tomato_Yellow_Leaf_Curl_Virus', 'Tomato___Tomato_mosaic_virus', 'Tomato___healthy']\n"
     ]
    }
   ],
   "source": [
    "categories = list(train_data.class_indices.keys())\n",
    "print(categories)"
   ]
  },
  {
   "cell_type": "code",
   "execution_count": 6,
   "metadata": {
    "execution": {
     "iopub.execute_input": "2020-08-12T16:47:05.201040Z",
     "iopub.status.busy": "2020-08-12T16:47:05.200085Z",
     "iopub.status.idle": "2020-08-12T16:47:05.203942Z",
     "shell.execute_reply": "2020-08-12T16:47:05.204419Z"
    },
    "papermill": {
     "duration": 0.016183,
     "end_time": "2020-08-12T16:47:05.204550",
     "exception": false,
     "start_time": "2020-08-12T16:47:05.188367",
     "status": "completed"
    },
    "tags": []
   },
   "outputs": [
    {
     "data": {
      "text/plain": [
       "(224, 224, 3)"
      ]
     },
     "execution_count": 6,
     "metadata": {},
     "output_type": "execute_result"
    }
   ],
   "source": [
    "train_data.image_shape"
   ]
  },
  {
   "cell_type": "markdown",
   "execution_count": null,
   "metadata": {
    "papermill": {
     "duration": 0.006192,
     "end_time": "2020-08-12T16:47:05.217115",
     "exception": false,
     "start_time": "2020-08-12T16:47:05.210923",
     "status": "completed"
    },
    "tags": []
   },
   "source": [
    "## Using MobileNet"
   ]
  },
  {
   "cell_type": "code",
   "execution_count": 7,
   "metadata": {
    "execution": {
     "iopub.execute_input": "2020-08-12T16:47:05.234821Z",
     "iopub.status.busy": "2020-08-12T16:47:05.234205Z",
     "iopub.status.idle": "2020-08-12T16:47:10.822076Z",
     "shell.execute_reply": "2020-08-12T16:47:10.820794Z"
    },
    "papermill": {
     "duration": 5.598617,
     "end_time": "2020-08-12T16:47:10.822205",
     "exception": false,
     "start_time": "2020-08-12T16:47:05.223588",
     "status": "completed"
    },
    "tags": []
   },
   "outputs": [
    {
     "name": "stdout",
     "output_type": "stream",
     "text": [
      "Downloading data from https://storage.googleapis.com/tensorflow/keras-applications/mobilenet/mobilenet_1_0_224_tf_no_top.h5\n",
      "17227776/17225924 [==============================] - 0s 0us/step\n"
     ]
    }
   ],
   "source": [
    "base_model = keras.applications.MobileNet(weights=\"imagenet\",include_top=False,input_shape=(image_size,image_size,3))"
   ]
  },
  {
   "cell_type": "code",
   "execution_count": 8,
   "metadata": {
    "execution": {
     "iopub.execute_input": "2020-08-12T16:47:10.847415Z",
     "iopub.status.busy": "2020-08-12T16:47:10.846635Z",
     "iopub.status.idle": "2020-08-12T16:47:11.760519Z",
     "shell.execute_reply": "2020-08-12T16:47:11.759968Z"
    },
    "papermill": {
     "duration": 0.931029,
     "end_time": "2020-08-12T16:47:11.760645",
     "exception": false,
     "start_time": "2020-08-12T16:47:10.829616",
     "status": "completed"
    },
    "tags": []
   },
   "outputs": [],
   "source": [
    "\n",
    "base_model.trainable = False\n",
    "inputs = keras.Input(shape=(image_size,image_size,3))\n",
    "x = base_model(inputs,training=False)\n",
    "x = keras.layers.GlobalAveragePooling2D()(x)\n",
    "x = keras.layers.Dropout(0.2)(x)\n",
    "x = keras.layers.Dense(len(categories),activation=\"softmax\")(x)\n",
    "model = keras.Model(inputs=inputs, outputs=x, name=\"LeafDisease_MobileNet\")"
   ]
  },
  {
   "cell_type": "code",
   "execution_count": 9,
   "metadata": {
    "execution": {
     "iopub.execute_input": "2020-08-12T16:47:11.794267Z",
     "iopub.status.busy": "2020-08-12T16:47:11.792498Z",
     "iopub.status.idle": "2020-08-12T16:47:11.797898Z",
     "shell.execute_reply": "2020-08-12T16:47:11.794873Z"
    },
    "papermill": {
     "duration": 0.030216,
     "end_time": "2020-08-12T16:47:11.798071",
     "exception": false,
     "start_time": "2020-08-12T16:47:11.767855",
     "status": "completed"
    },
    "tags": []
   },
   "outputs": [
    {
     "name": "stdout",
     "output_type": "stream",
     "text": [
      "Model: \"LeafDisease_MobileNet\"\n",
      "_________________________________________________________________\n",
      "Layer (type)                 Output Shape              Param #   \n",
      "=================================================================\n",
      "input_2 (InputLayer)         [(None, 224, 224, 3)]     0         \n",
      "_________________________________________________________________\n",
      "mobilenet_1.00_224 (Model)   (None, 7, 7, 1024)        3228864   \n",
      "_________________________________________________________________\n",
      "global_average_pooling2d (Gl (None, 1024)              0         \n",
      "_________________________________________________________________\n",
      "dropout (Dropout)            (None, 1024)              0         \n",
      "_________________________________________________________________\n",
      "dense (Dense)                (None, 38)                38950     \n",
      "=================================================================\n",
      "Total params: 3,267,814\n",
      "Trainable params: 38,950\n",
      "Non-trainable params: 3,228,864\n",
      "_________________________________________________________________\n"
     ]
    }
   ],
   "source": [
    "model.summary()"
   ]
  },
  {
   "cell_type": "code",
   "execution_count": 10,
   "metadata": {
    "execution": {
     "iopub.execute_input": "2020-08-12T16:47:11.824667Z",
     "iopub.status.busy": "2020-08-12T16:47:11.821591Z",
     "iopub.status.idle": "2020-08-12T16:47:11.841234Z",
     "shell.execute_reply": "2020-08-12T16:47:11.841712Z"
    },
    "papermill": {
     "duration": 0.035495,
     "end_time": "2020-08-12T16:47:11.841830",
     "exception": false,
     "start_time": "2020-08-12T16:47:11.806335",
     "status": "completed"
    },
    "tags": []
   },
   "outputs": [],
   "source": [
    "\n",
    "optimizer = keras.optimizers.Adam()\n",
    "model.compile(optimizer=optimizer,loss=keras.losses.CategoricalCrossentropy(from_logits=True),metrics=[keras.metrics.CategoricalAccuracy()])"
   ]
  },
  {
   "cell_type": "code",
   "execution_count": 11,
   "metadata": {
    "execution": {
     "iopub.execute_input": "2020-08-12T16:47:11.863587Z",
     "iopub.status.busy": "2020-08-12T16:47:11.860109Z",
     "iopub.status.idle": "2020-08-12T17:16:35.610797Z",
     "shell.execute_reply": "2020-08-12T17:16:35.611366Z"
    },
    "papermill": {
     "duration": 1763.762437,
     "end_time": "2020-08-12T17:16:35.611528",
     "exception": false,
     "start_time": "2020-08-12T16:47:11.849091",
     "status": "completed"
    },
    "tags": []
   },
   "outputs": [
    {
     "name": "stdout",
     "output_type": "stream",
     "text": [
      "Epoch 1/25\n",
      "150/150 [==============================] - 76s 508ms/step - loss: 3.3871 - categorical_accuracy: 0.3537 - val_loss: 3.1294 - val_categorical_accuracy: 0.6316\n",
      "Epoch 2/25\n",
      "150/150 [==============================] - 75s 499ms/step - loss: 3.0812 - categorical_accuracy: 0.6665 - val_loss: 2.9800 - val_categorical_accuracy: 0.7475\n",
      "Epoch 3/25\n",
      "150/150 [==============================] - 74s 491ms/step - loss: 2.9754 - categorical_accuracy: 0.7594 - val_loss: 2.9094 - val_categorical_accuracy: 0.8225\n",
      "Epoch 4/25\n",
      "150/150 [==============================] - 73s 489ms/step - loss: 2.9158 - categorical_accuracy: 0.8127 - val_loss: 2.8913 - val_categorical_accuracy: 0.8184\n",
      "Epoch 5/25\n",
      "150/150 [==============================] - 72s 478ms/step - loss: 2.9008 - categorical_accuracy: 0.8171 - val_loss: 2.8631 - val_categorical_accuracy: 0.8453\n",
      "Epoch 6/25\n",
      "150/150 [==============================] - 71s 474ms/step - loss: 2.8926 - categorical_accuracy: 0.8231 - val_loss: 2.8696 - val_categorical_accuracy: 0.8341\n",
      "Epoch 7/25\n",
      "150/150 [==============================] - 72s 477ms/step - loss: 2.8829 - categorical_accuracy: 0.8304 - val_loss: 2.8612 - val_categorical_accuracy: 0.8413\n",
      "Epoch 8/25\n",
      "150/150 [==============================] - 70s 469ms/step - loss: 2.8659 - categorical_accuracy: 0.8415 - val_loss: 2.8474 - val_categorical_accuracy: 0.8556\n",
      "Epoch 9/25\n",
      "150/150 [==============================] - 69s 462ms/step - loss: 2.8721 - categorical_accuracy: 0.8336 - val_loss: 2.8281 - val_categorical_accuracy: 0.8703\n",
      "Epoch 10/25\n",
      "150/150 [==============================] - 69s 460ms/step - loss: 2.8671 - categorical_accuracy: 0.8404 - val_loss: 2.8258 - val_categorical_accuracy: 0.8753\n",
      "Epoch 11/25\n",
      "150/150 [==============================] - 69s 458ms/step - loss: 2.8507 - categorical_accuracy: 0.8548 - val_loss: 2.8335 - val_categorical_accuracy: 0.8669\n",
      "Epoch 12/25\n",
      "150/150 [==============================] - 69s 462ms/step - loss: 2.8518 - categorical_accuracy: 0.8500 - val_loss: 2.8257 - val_categorical_accuracy: 0.8737\n",
      "Epoch 13/25\n",
      "150/150 [==============================] - 69s 458ms/step - loss: 2.8395 - categorical_accuracy: 0.8610 - val_loss: 2.8231 - val_categorical_accuracy: 0.8750\n",
      "Epoch 14/25\n",
      "150/150 [==============================] - 68s 452ms/step - loss: 2.8363 - categorical_accuracy: 0.8617 - val_loss: 2.8311 - val_categorical_accuracy: 0.8628\n",
      "Epoch 15/25\n",
      "150/150 [==============================] - 67s 450ms/step - loss: 2.8294 - categorical_accuracy: 0.8740 - val_loss: 2.8185 - val_categorical_accuracy: 0.8775\n",
      "Epoch 16/25\n",
      "150/150 [==============================] - 67s 449ms/step - loss: 2.8270 - categorical_accuracy: 0.8775 - val_loss: 2.8156 - val_categorical_accuracy: 0.8800\n",
      "Epoch 17/25\n",
      "150/150 [==============================] - 68s 452ms/step - loss: 2.8249 - categorical_accuracy: 0.8763 - val_loss: 2.7951 - val_categorical_accuracy: 0.9050\n",
      "Epoch 18/25\n",
      "150/150 [==============================] - 67s 446ms/step - loss: 2.8148 - categorical_accuracy: 0.8856 - val_loss: 2.7860 - val_categorical_accuracy: 0.9116\n",
      "Epoch 19/25\n",
      "150/150 [==============================] - 67s 444ms/step - loss: 2.8088 - categorical_accuracy: 0.8927 - val_loss: 2.7916 - val_categorical_accuracy: 0.9050\n",
      "Epoch 20/25\n",
      "150/150 [==============================] - 67s 447ms/step - loss: 2.7975 - categorical_accuracy: 0.9038 - val_loss: 2.7764 - val_categorical_accuracy: 0.9203\n",
      "Epoch 21/25\n",
      "150/150 [==============================] - 81s 542ms/step - loss: 2.7994 - categorical_accuracy: 0.8985 - val_loss: 2.7809 - val_categorical_accuracy: 0.9125\n",
      "Epoch 22/25\n",
      "150/150 [==============================] - 66s 441ms/step - loss: 2.7996 - categorical_accuracy: 0.9023 - val_loss: 2.7783 - val_categorical_accuracy: 0.9200\n",
      "Epoch 23/25\n",
      "150/150 [==============================] - 66s 442ms/step - loss: 2.7924 - categorical_accuracy: 0.9073 - val_loss: 2.7802 - val_categorical_accuracy: 0.9128\n",
      "Epoch 24/25\n",
      "150/150 [==============================] - 66s 441ms/step - loss: 2.7933 - categorical_accuracy: 0.9038 - val_loss: 2.7767 - val_categorical_accuracy: 0.9172\n",
      "Epoch 25/25\n",
      "150/150 [==============================] - 66s 442ms/step - loss: 2.7887 - categorical_accuracy: 0.9079 - val_loss: 2.7717 - val_categorical_accuracy: 0.9209\n"
     ]
    }
   ],
   "source": [
    "history = model.fit_generator(train_data,\n",
    "          validation_data=test_data,\n",
    "          epochs=25,\n",
    "          steps_per_epoch=150,\n",
    "          validation_steps=100\n",
    "         )"
   ]
  },
  {
   "cell_type": "code",
   "execution_count": 12,
   "metadata": {
    "execution": {
     "iopub.execute_input": "2020-08-12T17:16:36.046434Z",
     "iopub.status.busy": "2020-08-12T17:16:36.045228Z",
     "iopub.status.idle": "2020-08-12T17:17:22.377193Z",
     "shell.execute_reply": "2020-08-12T17:17:22.376398Z"
    },
    "papermill": {
     "duration": 46.551717,
     "end_time": "2020-08-12T17:17:22.377347",
     "exception": false,
     "start_time": "2020-08-12T17:16:35.825630",
     "status": "completed"
    },
    "tags": []
   },
   "outputs": [
    {
     "name": "stdout",
     "output_type": "stream",
     "text": [
      "550/550 [==============================] - 46s 83ms/step - loss: 2.7734 - categorical_accuracy: 0.9211\n"
     ]
    },
    {
     "data": {
      "text/plain": [
       "[2.773350477218628, 0.9210675954818726]"
      ]
     },
     "execution_count": 12,
     "metadata": {},
     "output_type": "execute_result"
    }
   ],
   "source": [
    "model.evaluate(test_data)"
   ]
  },
  {
   "cell_type": "code",
   "execution_count": 13,
   "metadata": {
    "execution": {
     "iopub.execute_input": "2020-08-12T17:17:22.950659Z",
     "iopub.status.busy": "2020-08-12T17:17:22.935461Z",
     "iopub.status.idle": "2020-08-12T17:17:23.080597Z",
     "shell.execute_reply": "2020-08-12T17:17:23.079401Z"
    },
    "papermill": {
     "duration": 0.409316,
     "end_time": "2020-08-12T17:17:23.080723",
     "exception": false,
     "start_time": "2020-08-12T17:17:22.671407",
     "status": "completed"
    },
    "tags": []
   },
   "outputs": [],
   "source": [
    "model.save('leaf-cnn.h5')"
   ]
  },
  {
   "cell_type": "code",
   "execution_count": 14,
   "metadata": {
    "execution": {
     "iopub.execute_input": "2020-08-12T17:17:23.591242Z",
     "iopub.status.busy": "2020-08-12T17:17:23.590052Z",
     "iopub.status.idle": "2020-08-12T17:17:23.783744Z",
     "shell.execute_reply": "2020-08-12T17:17:23.784239Z"
    },
    "papermill": {
     "duration": 0.457988,
     "end_time": "2020-08-12T17:17:23.784385",
     "exception": false,
     "start_time": "2020-08-12T17:17:23.326397",
     "status": "completed"
    },
    "tags": []
   },
   "outputs": [
    {
     "data": {
      "text/plain": [
       "<matplotlib.legend.Legend at 0x7fd5a166edd0>"
      ]
     },
     "execution_count": 14,
     "metadata": {},
     "output_type": "execute_result"
    },
    {
     "data": {
      "image/png": "[encoded data removed]",
      "text/plain": [
       "<Figure size 720x432 with 1 Axes>"
      ]
     },
     "metadata": {
      "needs_background": "light"
     },
     "output_type": "display_data"
    }
   ],
   "source": [
    "loss = history.history['loss']\n",
    "val_loss = history.history['val_loss']\n",
    "\n",
    "epochs = range(len(loss))\n",
    "\n",
    "fig = plt.figure(figsize=(10,6))\n",
    "plt.plot(epochs,loss,c=\"red\",label=\"Training\")\n",
    "plt.plot(epochs,val_loss,c=\"blue\",label=\"Validation\")\n",
    "plt.xlabel(\"Epochs\")\n",
    "plt.ylabel(\"Loss\")\n",
    "plt.legend()"
   ]
  },
  {
   "cell_type": "code",
   "execution_count": 15,
   "metadata": {
    "execution": {
     "iopub.execute_input": "2020-08-12T17:17:24.321110Z",
     "iopub.status.busy": "2020-08-12T17:17:24.315203Z",
     "iopub.status.idle": "2020-08-12T17:17:24.475623Z",
     "shell.execute_reply": "2020-08-12T17:17:24.476145Z"
    },
    "papermill": {
     "duration": 0.449281,
     "end_time": "2020-08-12T17:17:24.476300",
     "exception": false,
     "start_time": "2020-08-12T17:17:24.027019",
     "status": "completed"
    },
    "tags": []
   },
   "outputs": [
    {
     "data": {
      "text/plain": [
       "<matplotlib.legend.Legend at 0x7fd5a00e4790>"
      ]
     },
     "execution_count": 15,
     "metadata": {},
     "output_type": "execute_result"
    },
    {
     "data": {
      "image/png": "[encoded data removed]",
      "text/plain": [
       "<Figure size 720x432 with 1 Axes>"
      ]
     },
     "metadata": {
      "needs_background": "light"
     },
     "output_type": "display_data"
    }
   ],
   "source": [
    "acc = history.history['categorical_accuracy']\n",
    "val_acc = history.history['val_categorical_accuracy']\n",
    "\n",
    "epochs = range(len(acc))\n",
    "\n",
    "fig = plt.figure(figsize=(10,6))\n",
    "plt.plot(epochs,acc,c=\"red\",label=\"Training\")\n",
    "plt.plot(epochs,val_acc,c=\"blue\",label=\"Validation\")\n",
    "plt.xlabel(\"Epochs\")\n",
    "plt.ylabel(\"Accuracy\")\n",
    "plt.legend()"
   ]
  }
 ],
 "metadata": {
  "kernelspec": {
   "display_name": "Python 3",
   "language": "python",
   "name": "python3"
  },
  "language_info": {
   "codemirror_mode": {
    "name": "ipython",
    "version": 3
   },
   "file_extension": ".py",
   "mimetype": "text/x-python",
   "name": "python",
   "nbconvert_exporter": "python",
   "pygments_lexer": "ipython3",
   "version": "3.7.6"
  },
  "papermill": {
   "duration": 1844.677654,
   "end_time": "2020-08-12T17:17:26.051700",
   "environment_variables": {},
   "exception": null,
   "input_path": "__notebook__.ipynb",
   "output_path": "__notebook__.ipynb",
   "parameters": {},
   "start_time": "2020-08-12T16:46:41.374046",
   "version": "2.1.0"
  }
 },
 "nbformat": 4,
 "nbformat_minor": 4
}
